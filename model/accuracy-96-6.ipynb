{
 "cells": [
  {
   "cell_type": "markdown",
   "metadata": {
    "id": "e24a4a32"
   },
   "source": [
    "# Spotify Songs Emotions"
   ]
  },
  {
   "cell_type": "code",
   "execution_count": null,
   "metadata": {
    "colab": {
     "base_uri": "https://localhost:8080/"
    },
    "id": "uBzD0J850eZz",
    "outputId": "1439a9b4-6f0a-4be5-ac7f-a8543f6e4e01"
   },
   "outputs": [
    {
     "ename": "ModuleNotFoundError",
     "evalue": "No module named 'google.colab'",
     "output_type": "error",
     "traceback": [
      "\u001b[1;31m---------------------------------------------------------------------------\u001b[0m",
      "\u001b[1;31mModuleNotFoundError\u001b[0m                       Traceback (most recent call last)",
      "Cell \u001b[1;32mIn[1], line 1\u001b[0m\n\u001b[1;32m----> 1\u001b[0m \u001b[38;5;28;01mfrom\u001b[39;00m\u001b[38;5;250m \u001b[39m\u001b[38;5;21;01mgoogle\u001b[39;00m\u001b[38;5;21;01m.\u001b[39;00m\u001b[38;5;21;01mcolab\u001b[39;00m\u001b[38;5;250m \u001b[39m\u001b[38;5;28;01mimport\u001b[39;00m drive\n\u001b[0;32m      2\u001b[0m drive\u001b[38;5;241m.\u001b[39mmount(\u001b[38;5;124m'\u001b[39m\u001b[38;5;124m/content/drive\u001b[39m\u001b[38;5;124m'\u001b[39m)\n",
      "\u001b[1;31mModuleNotFoundError\u001b[0m: No module named 'google.colab'"
     ]
    }
   ],
   "source": [
    "# The google.colab module is only available in Google Colab environments.\n",
    "# If you are running this notebook locally (e.g., Jupyter Notebook, VS Code), you do not need to mount Google Drive.\n",
    "# If you want to access files, use standard file paths or upload files manually.\n",
    "\n",
    "# Example: If you need to access a local file, just use its path directly.\n",
    "# df = pd.read_csv('path/to/your/local/file.csv')"
   ]
  },
  {
   "cell_type": "markdown",
   "metadata": {
    "id": "81ac1512"
   },
   "source": [
    "# Import libraries"
   ]
  },
  {
   "cell_type": "code",
   "execution_count": 5,
   "metadata": {
    "id": "05b0132a"
   },
   "outputs": [],
   "source": [
    "import pandas as pd\n",
    "import numpy as np\n",
    "import matplotlib.pyplot as plt\n",
    "import seaborn as sns\n",
    "import random\n",
    "import math\n",
    "import os\n",
    "from sklearn.model_selection import train_test_split\n",
    "from sklearn.compose import ColumnTransformer\n",
    "from sklearn.pipeline import Pipeline\n",
    "from sklearn.preprocessing import StandardScaler\n",
    "from sklearn.model_selection import GridSearchCV\n",
    "from sklearn.impute import SimpleImputer\n",
    "from sklearn.svm import SVC\n",
    "from sklearn.tree import DecisionTreeClassifier\n",
    "from sklearn.ensemble import RandomForestClassifier\n",
    "import xgboost as xgb\n",
    "from xgboost import XGBClassifier\n",
    "from sklearn.metrics import accuracy_score\n",
    "from sklearn import set_config\n",
    "from sklearn.model_selection import GridSearchCV\n",
    "from tensorflow import keras\n",
    "from scikeras.wrappers import KerasRegressor"
   ]
  },
  {
   "cell_type": "code",
   "execution_count": 6,
   "metadata": {
    "id": "cfb35bf7"
   },
   "outputs": [],
   "source": [
    "df = pd.read_csv(r'D:\\MLops\\Github projects\\Emotion-Based-Music-Recommender\\dataset\\278k_labelled_uri.csv')"
   ]
  },
  {
   "cell_type": "code",
   "execution_count": 7,
   "metadata": {
    "colab": {
     "base_uri": "https://localhost:8080/",
     "height": 187
    },
    "id": "91d098e2",
    "outputId": "5fcde0ca-e187-4c18-beb2-b259e3581a6e"
   },
   "outputs": [
    {
     "data": {
      "text/html": [
       "<div>\n",
       "<style scoped>\n",
       "    .dataframe tbody tr th:only-of-type {\n",
       "        vertical-align: middle;\n",
       "    }\n",
       "\n",
       "    .dataframe tbody tr th {\n",
       "        vertical-align: top;\n",
       "    }\n",
       "\n",
       "    .dataframe thead th {\n",
       "        text-align: right;\n",
       "    }\n",
       "</style>\n",
       "<table border=\"1\" class=\"dataframe\">\n",
       "  <thead>\n",
       "    <tr style=\"text-align: right;\">\n",
       "      <th></th>\n",
       "      <th>Unnamed: 0.1</th>\n",
       "      <th>Unnamed: 0</th>\n",
       "      <th>duration (ms)</th>\n",
       "      <th>danceability</th>\n",
       "      <th>energy</th>\n",
       "      <th>loudness</th>\n",
       "      <th>speechiness</th>\n",
       "      <th>acousticness</th>\n",
       "      <th>instrumentalness</th>\n",
       "      <th>liveness</th>\n",
       "      <th>valence</th>\n",
       "      <th>tempo</th>\n",
       "      <th>spec_rate</th>\n",
       "      <th>labels</th>\n",
       "      <th>uri</th>\n",
       "    </tr>\n",
       "  </thead>\n",
       "  <tbody>\n",
       "    <tr>\n",
       "      <th>163180</th>\n",
       "      <td>163180</td>\n",
       "      <td>163180</td>\n",
       "      <td>235987.0</td>\n",
       "      <td>0.445</td>\n",
       "      <td>0.3840</td>\n",
       "      <td>-14.642</td>\n",
       "      <td>0.0417</td>\n",
       "      <td>0.635</td>\n",
       "      <td>0.000077</td>\n",
       "      <td>0.0539</td>\n",
       "      <td>0.216</td>\n",
       "      <td>123.295</td>\n",
       "      <td>1.767046e-07</td>\n",
       "      <td>0</td>\n",
       "      <td>spotify:track:3ZE3wv8V3w2T2f7nOCjV0N</td>\n",
       "    </tr>\n",
       "    <tr>\n",
       "      <th>118017</th>\n",
       "      <td>118017</td>\n",
       "      <td>118017</td>\n",
       "      <td>196537.0</td>\n",
       "      <td>0.471</td>\n",
       "      <td>0.0985</td>\n",
       "      <td>-22.367</td>\n",
       "      <td>0.0378</td>\n",
       "      <td>0.966</td>\n",
       "      <td>0.917000</td>\n",
       "      <td>0.1460</td>\n",
       "      <td>0.173</td>\n",
       "      <td>119.819</td>\n",
       "      <td>1.923302e-07</td>\n",
       "      <td>3</td>\n",
       "      <td>spotify:track:2WV63cJoapM6BNN22RvxZF</td>\n",
       "    </tr>\n",
       "    <tr>\n",
       "      <th>196816</th>\n",
       "      <td>196816</td>\n",
       "      <td>196816</td>\n",
       "      <td>147929.0</td>\n",
       "      <td>0.514</td>\n",
       "      <td>0.1730</td>\n",
       "      <td>-12.660</td>\n",
       "      <td>0.0413</td>\n",
       "      <td>0.733</td>\n",
       "      <td>0.924000</td>\n",
       "      <td>0.1070</td>\n",
       "      <td>0.180</td>\n",
       "      <td>215.684</td>\n",
       "      <td>2.791880e-07</td>\n",
       "      <td>3</td>\n",
       "      <td>spotify:track:2FyFsPKhv0wNQ9nhTSM1Vs</td>\n",
       "    </tr>\n",
       "  </tbody>\n",
       "</table>\n",
       "</div>"
      ],
      "text/plain": [
       "        Unnamed: 0.1  Unnamed: 0  duration (ms)  danceability  energy  \\\n",
       "163180        163180      163180       235987.0         0.445  0.3840   \n",
       "118017        118017      118017       196537.0         0.471  0.0985   \n",
       "196816        196816      196816       147929.0         0.514  0.1730   \n",
       "\n",
       "        loudness  speechiness  acousticness  instrumentalness  liveness  \\\n",
       "163180   -14.642       0.0417         0.635          0.000077    0.0539   \n",
       "118017   -22.367       0.0378         0.966          0.917000    0.1460   \n",
       "196816   -12.660       0.0413         0.733          0.924000    0.1070   \n",
       "\n",
       "        valence    tempo     spec_rate  labels  \\\n",
       "163180    0.216  123.295  1.767046e-07       0   \n",
       "118017    0.173  119.819  1.923302e-07       3   \n",
       "196816    0.180  215.684  2.791880e-07       3   \n",
       "\n",
       "                                         uri  \n",
       "163180  spotify:track:3ZE3wv8V3w2T2f7nOCjV0N  \n",
       "118017  spotify:track:2WV63cJoapM6BNN22RvxZF  \n",
       "196816  spotify:track:2FyFsPKhv0wNQ9nhTSM1Vs  "
      ]
     },
     "execution_count": 7,
     "metadata": {},
     "output_type": "execute_result"
    }
   ],
   "source": [
    "df.sample(3)"
   ]
  },
  {
   "cell_type": "code",
   "execution_count": 8,
   "metadata": {
    "id": "157cbba8"
   },
   "outputs": [],
   "source": [
    "df.drop(columns=['Unnamed: 0'],axis=1,inplace=True)"
   ]
  },
  {
   "cell_type": "code",
   "execution_count": 9,
   "metadata": {
    "colab": {
     "base_uri": "https://localhost:8080/",
     "height": 206
    },
    "id": "444860d4",
    "outputId": "debb4a4f-21a0-4077-ed0a-332cbfe0575f"
   },
   "outputs": [
    {
     "data": {
      "text/html": [
       "<div>\n",
       "<style scoped>\n",
       "    .dataframe tbody tr th:only-of-type {\n",
       "        vertical-align: middle;\n",
       "    }\n",
       "\n",
       "    .dataframe tbody tr th {\n",
       "        vertical-align: top;\n",
       "    }\n",
       "\n",
       "    .dataframe thead th {\n",
       "        text-align: right;\n",
       "    }\n",
       "</style>\n",
       "<table border=\"1\" class=\"dataframe\">\n",
       "  <thead>\n",
       "    <tr style=\"text-align: right;\">\n",
       "      <th></th>\n",
       "      <th>Unnamed: 0.1</th>\n",
       "      <th>duration (ms)</th>\n",
       "      <th>danceability</th>\n",
       "      <th>energy</th>\n",
       "      <th>loudness</th>\n",
       "      <th>speechiness</th>\n",
       "      <th>acousticness</th>\n",
       "      <th>instrumentalness</th>\n",
       "      <th>liveness</th>\n",
       "      <th>valence</th>\n",
       "      <th>tempo</th>\n",
       "      <th>spec_rate</th>\n",
       "      <th>labels</th>\n",
       "      <th>uri</th>\n",
       "    </tr>\n",
       "  </thead>\n",
       "  <tbody>\n",
       "    <tr>\n",
       "      <th>277771</th>\n",
       "      <td>277771</td>\n",
       "      <td>570733.0</td>\n",
       "      <td>0.379</td>\n",
       "      <td>0.782</td>\n",
       "      <td>-8.163</td>\n",
       "      <td>0.0358</td>\n",
       "      <td>0.04720</td>\n",
       "      <td>0.748000</td>\n",
       "      <td>0.265</td>\n",
       "      <td>0.5490</td>\n",
       "      <td>101.698</td>\n",
       "      <td>6.272635e-08</td>\n",
       "      <td>0</td>\n",
       "      <td>spotify:track:3cSlU4ZH4wzb5pM7wI1k3f</td>\n",
       "    </tr>\n",
       "    <tr>\n",
       "      <th>44870</th>\n",
       "      <td>44870</td>\n",
       "      <td>256173.0</td>\n",
       "      <td>0.551</td>\n",
       "      <td>0.835</td>\n",
       "      <td>-7.101</td>\n",
       "      <td>0.9370</td>\n",
       "      <td>0.68900</td>\n",
       "      <td>0.000000</td>\n",
       "      <td>0.792</td>\n",
       "      <td>0.4350</td>\n",
       "      <td>117.293</td>\n",
       "      <td>3.657684e-06</td>\n",
       "      <td>1</td>\n",
       "      <td>spotify:track:2yGW59d94dNOf90TKTyPhD</td>\n",
       "    </tr>\n",
       "    <tr>\n",
       "      <th>168086</th>\n",
       "      <td>168086</td>\n",
       "      <td>265560.0</td>\n",
       "      <td>0.488</td>\n",
       "      <td>0.871</td>\n",
       "      <td>-9.447</td>\n",
       "      <td>0.0781</td>\n",
       "      <td>0.00472</td>\n",
       "      <td>0.000776</td>\n",
       "      <td>0.676</td>\n",
       "      <td>0.5180</td>\n",
       "      <td>118.986</td>\n",
       "      <td>2.940955e-07</td>\n",
       "      <td>2</td>\n",
       "      <td>spotify:track:4cgSBnNzOo9rhwzUczB7HI</td>\n",
       "    </tr>\n",
       "    <tr>\n",
       "      <th>41558</th>\n",
       "      <td>41558</td>\n",
       "      <td>256800.0</td>\n",
       "      <td>0.283</td>\n",
       "      <td>0.236</td>\n",
       "      <td>-16.134</td>\n",
       "      <td>0.0440</td>\n",
       "      <td>0.95000</td>\n",
       "      <td>0.053600</td>\n",
       "      <td>0.388</td>\n",
       "      <td>0.0456</td>\n",
       "      <td>127.360</td>\n",
       "      <td>1.713396e-07</td>\n",
       "      <td>0</td>\n",
       "      <td>spotify:track:6xWtXXoXeG1MgSG9oqG9vf</td>\n",
       "    </tr>\n",
       "    <tr>\n",
       "      <th>40631</th>\n",
       "      <td>40631</td>\n",
       "      <td>187120.0</td>\n",
       "      <td>0.107</td>\n",
       "      <td>0.282</td>\n",
       "      <td>-11.530</td>\n",
       "      <td>0.0408</td>\n",
       "      <td>0.36000</td>\n",
       "      <td>0.657000</td>\n",
       "      <td>0.102</td>\n",
       "      <td>0.1040</td>\n",
       "      <td>73.854</td>\n",
       "      <td>2.180419e-07</td>\n",
       "      <td>0</td>\n",
       "      <td>spotify:track:1WvX1J8vS5Jt9AXBnDtC3e</td>\n",
       "    </tr>\n",
       "  </tbody>\n",
       "</table>\n",
       "</div>"
      ],
      "text/plain": [
       "        Unnamed: 0.1  duration (ms)  danceability  energy  loudness  \\\n",
       "277771        277771       570733.0         0.379   0.782    -8.163   \n",
       "44870          44870       256173.0         0.551   0.835    -7.101   \n",
       "168086        168086       265560.0         0.488   0.871    -9.447   \n",
       "41558          41558       256800.0         0.283   0.236   -16.134   \n",
       "40631          40631       187120.0         0.107   0.282   -11.530   \n",
       "\n",
       "        speechiness  acousticness  instrumentalness  liveness  valence  \\\n",
       "277771       0.0358       0.04720          0.748000     0.265   0.5490   \n",
       "44870        0.9370       0.68900          0.000000     0.792   0.4350   \n",
       "168086       0.0781       0.00472          0.000776     0.676   0.5180   \n",
       "41558        0.0440       0.95000          0.053600     0.388   0.0456   \n",
       "40631        0.0408       0.36000          0.657000     0.102   0.1040   \n",
       "\n",
       "          tempo     spec_rate  labels                                   uri  \n",
       "277771  101.698  6.272635e-08       0  spotify:track:3cSlU4ZH4wzb5pM7wI1k3f  \n",
       "44870   117.293  3.657684e-06       1  spotify:track:2yGW59d94dNOf90TKTyPhD  \n",
       "168086  118.986  2.940955e-07       2  spotify:track:4cgSBnNzOo9rhwzUczB7HI  \n",
       "41558   127.360  1.713396e-07       0  spotify:track:6xWtXXoXeG1MgSG9oqG9vf  \n",
       "40631    73.854  2.180419e-07       0  spotify:track:1WvX1J8vS5Jt9AXBnDtC3e  "
      ]
     },
     "execution_count": 9,
     "metadata": {},
     "output_type": "execute_result"
    }
   ],
   "source": [
    "df.sample(5)"
   ]
  },
  {
   "cell_type": "code",
   "execution_count": 10,
   "metadata": {
    "colab": {
     "base_uri": "https://localhost:8080/"
    },
    "id": "5c6a83b0",
    "outputId": "19e90eba-c8db-4a57-8a5b-f329452f85cd"
   },
   "outputs": [
    {
     "name": "stdout",
     "output_type": "stream",
     "text": [
      "Total records in dataset =  277938\n",
      "Total columns in dataset =  14\n"
     ]
    }
   ],
   "source": [
    "# Check total records and columns\n",
    "print('Total records in dataset = ',df.shape[0])\n",
    "print('Total columns in dataset = ',df.shape[1])"
   ]
  },
  {
   "cell_type": "code",
   "execution_count": 11,
   "metadata": {
    "colab": {
     "base_uri": "https://localhost:8080/",
     "height": 442
    },
    "id": "b7e83037",
    "outputId": "86a9d6f7-0dd4-457e-994b-2238d834bcd9"
   },
   "outputs": [
    {
     "data": {
      "text/plain": [
       "<Axes: xlabel='labels'>"
      ]
     },
     "execution_count": 11,
     "metadata": {},
     "output_type": "execute_result"
    },
    {
     "data": {
      "image/png": "[encoded data removed]",
      "text/plain": [
       "<Figure size 640x480 with 1 Axes>"
      ]
     },
     "metadata": {},
     "output_type": "display_data"
    }
   ],
   "source": [
    "# Plot number of records of every label\n",
    "df['labels'].value_counts().plot(kind='bar')"
   ]
  },
  {
   "cell_type": "code",
   "execution_count": 13,
   "metadata": {
    "colab": {
     "base_uri": "https://localhost:8080/",
     "height": 558
    },
    "id": "324739ef",
    "outputId": "fda319eb-64f9-4118-dd5e-cc79e7af7321"
   },
   "outputs": [
    {
     "data": {
      "text/plain": [
       "<Axes: >"
      ]
     },
     "execution_count": 13,
     "metadata": {},
     "output_type": "execute_result"
    },
    {
     "data": {
      "image/png": "[encoded data removed]",
      "text/plain": [
       "<Figure size 640x480 with 2 Axes>"
      ]
     },
     "metadata": {},
     "output_type": "display_data"
    }
   ],
   "source": [
    "# Only use numeric columns for correlation\n",
    "numeric_df = df.select_dtypes(include=[np.number])\n",
    "sns.heatmap(numeric_df.corr())"
   ]
  },
  {
   "cell_type": "code",
   "execution_count": 14,
   "metadata": {
    "colab": {
     "base_uri": "https://localhost:8080/"
    },
    "id": "e3623f2f",
    "outputId": "791d5904-69e5-4f24-b01c-775ec6205d33"
   },
   "outputs": [
    {
     "name": "stdout",
     "output_type": "stream",
     "text": [
      "<class 'pandas.core.frame.DataFrame'>\n",
      "RangeIndex: 277938 entries, 0 to 277937\n",
      "Data columns (total 14 columns):\n",
      " #   Column            Non-Null Count   Dtype  \n",
      "---  ------            --------------   -----  \n",
      " 0   Unnamed: 0.1      277938 non-null  int64  \n",
      " 1   duration (ms)     277938 non-null  float64\n",
      " 2   danceability      277938 non-null  float64\n",
      " 3   energy            277938 non-null  float64\n",
      " 4   loudness          277938 non-null  float64\n",
      " 5   speechiness       277938 non-null  float64\n",
      " 6   acousticness      277938 non-null  float64\n",
      " 7   instrumentalness  277938 non-null  float64\n",
      " 8   liveness          277938 non-null  float64\n",
      " 9   valence           277938 non-null  float64\n",
      " 10  tempo             277938 non-null  float64\n",
      " 11  spec_rate         277938 non-null  float64\n",
      " 12  labels            277938 non-null  int64  \n",
      " 13  uri               277938 non-null  object \n",
      "dtypes: float64(11), int64(2), object(1)\n",
      "memory usage: 29.7+ MB\n"
     ]
    }
   ],
   "source": [
    "df.info()"
   ]
  },
  {
   "cell_type": "markdown",
   "metadata": {
    "id": "dg18v_E59gnw"
   },
   "source": [
    "# Try Different Models"
   ]
  },
  {
   "cell_type": "code",
   "execution_count": 15,
   "metadata": {
    "id": "5f4b01d6"
   },
   "outputs": [],
   "source": [
    "x_train,x_test,y_train,y_test = train_test_split(df.drop(columns = ['labels'] , axis = 1) , df['labels'] , test_size = 0.3, random_state=10)"
   ]
  },
  {
   "cell_type": "code",
   "execution_count": 16,
   "metadata": {
    "colab": {
     "base_uri": "https://localhost:8080/"
    },
    "id": "e695ccd6",
    "outputId": "d2d1b1d9-d900-41a7-8d81-d294e5df8fea"
   },
   "outputs": [
    {
     "data": {
      "text/plain": [
       "(194556, 13)"
      ]
     },
     "execution_count": 16,
     "metadata": {},
     "output_type": "execute_result"
    }
   ],
   "source": [
    "x_train.shape"
   ]
  },
  {
   "cell_type": "code",
   "execution_count": 17,
   "metadata": {
    "colab": {
     "base_uri": "https://localhost:8080/",
     "height": 112
    },
    "id": "52f15446",
    "outputId": "db5ee068-520d-4691-84db-74df79245af1"
   },
   "outputs": [
    {
     "data": {
      "text/html": [
       "<div>\n",
       "<style scoped>\n",
       "    .dataframe tbody tr th:only-of-type {\n",
       "        vertical-align: middle;\n",
       "    }\n",
       "\n",
       "    .dataframe tbody tr th {\n",
       "        vertical-align: top;\n",
       "    }\n",
       "\n",
       "    .dataframe thead th {\n",
       "        text-align: right;\n",
       "    }\n",
       "</style>\n",
       "<table border=\"1\" class=\"dataframe\">\n",
       "  <thead>\n",
       "    <tr style=\"text-align: right;\">\n",
       "      <th></th>\n",
       "      <th>Unnamed: 0.1</th>\n",
       "      <th>duration (ms)</th>\n",
       "      <th>danceability</th>\n",
       "      <th>energy</th>\n",
       "      <th>loudness</th>\n",
       "      <th>speechiness</th>\n",
       "      <th>acousticness</th>\n",
       "      <th>instrumentalness</th>\n",
       "      <th>liveness</th>\n",
       "      <th>valence</th>\n",
       "      <th>tempo</th>\n",
       "      <th>spec_rate</th>\n",
       "      <th>uri</th>\n",
       "    </tr>\n",
       "  </thead>\n",
       "  <tbody>\n",
       "    <tr>\n",
       "      <th>71481</th>\n",
       "      <td>71481</td>\n",
       "      <td>393750.0</td>\n",
       "      <td>0.766</td>\n",
       "      <td>0.816</td>\n",
       "      <td>-9.054</td>\n",
       "      <td>0.130</td>\n",
       "      <td>0.0233</td>\n",
       "      <td>0.878000</td>\n",
       "      <td>0.0986</td>\n",
       "      <td>0.0334</td>\n",
       "      <td>128.003</td>\n",
       "      <td>3.301587e-07</td>\n",
       "      <td>spotify:track:6kaIc67rCSgpZdEjnPnwd6</td>\n",
       "    </tr>\n",
       "    <tr>\n",
       "      <th>251375</th>\n",
       "      <td>251375</td>\n",
       "      <td>192000.0</td>\n",
       "      <td>0.645</td>\n",
       "      <td>0.869</td>\n",
       "      <td>-3.343</td>\n",
       "      <td>0.122</td>\n",
       "      <td>0.0160</td>\n",
       "      <td>0.000022</td>\n",
       "      <td>0.4160</td>\n",
       "      <td>0.5060</td>\n",
       "      <td>144.962</td>\n",
       "      <td>6.354167e-07</td>\n",
       "      <td>spotify:track:0ZDe2L8BCIrEE1OBtM3b4T</td>\n",
       "    </tr>\n",
       "  </tbody>\n",
       "</table>\n",
       "</div>"
      ],
      "text/plain": [
       "        Unnamed: 0.1  duration (ms)  danceability  energy  loudness  \\\n",
       "71481          71481       393750.0         0.766   0.816    -9.054   \n",
       "251375        251375       192000.0         0.645   0.869    -3.343   \n",
       "\n",
       "        speechiness  acousticness  instrumentalness  liveness  valence  \\\n",
       "71481         0.130        0.0233          0.878000    0.0986   0.0334   \n",
       "251375        0.122        0.0160          0.000022    0.4160   0.5060   \n",
       "\n",
       "          tempo     spec_rate                                   uri  \n",
       "71481   128.003  3.301587e-07  spotify:track:6kaIc67rCSgpZdEjnPnwd6  \n",
       "251375  144.962  6.354167e-07  spotify:track:0ZDe2L8BCIrEE1OBtM3b4T  "
      ]
     },
     "execution_count": 17,
     "metadata": {},
     "output_type": "execute_result"
    }
   ],
   "source": [
    "x_train.head(2)"
   ]
  },
  {
   "cell_type": "code",
   "execution_count": null,
   "metadata": {
    "colab": {
     "base_uri": "https://localhost:8080/",
     "height": 310
    },
    "id": "1141b932",
    "outputId": "27e1b0d0-f4a3-4c59-a5ee-830a2bd6dcfe"
   },
   "outputs": [],
   "source": [
    "tf1_lr = ColumnTransformer([('Nan Imputer' , SimpleImputer(missing_values = np.nan , strategy = 'most_frequent') , slice(0,11))])\n",
    "tf2_lr = ColumnTransformer([('Standard Scaler', StandardScaler(), slice(0,11))])\n",
    "svm = SVC(kernel='linear')\n",
    "\n",
    "\n",
    "pipe_svm = Pipeline([('Nan Imputer',tf1_lr),('StandardScaler',tf2_lr),('Support Vector Machine',svm)])\n",
    "\n",
    "pipe_svm.fit(x_train,y_train)\n",
    "\n",
    "# Calculate the accuracy of the classifier\n",
    "y_pred_svm = pipe_svm.predict(x_test)\n",
    "accuracy_svm = accuracy_score(y_test, y_pred_svm)\n",
    "print(\"Accuracy:\", accuracy_svm)\n",
    "\n",
    "set_config(display='diagram')\n",
    "pipe_svm"
   ]
  },
  {
   "cell_type": "code",
   "execution_count": null,
   "metadata": {
    "colab": {
     "base_uri": "https://localhost:8080/",
     "height": 310
    },
    "id": "btOJcORvA3aI",
    "outputId": "03bec0a5-183b-45f0-ee91-278bc44e8c75"
   },
   "outputs": [
    {
     "name": "stdout",
     "output_type": "stream",
     "text": [
      "Accuracy: 0.9058070087069151\n"
     ]
    },
    {
     "data": {
      "text/html": [
       "<style>#sk-container-id-4 {color: black;background-color: white;}#sk-container-id-4 pre{padding: 0;}#sk-container-id-4 div.sk-toggleable {background-color: white;}#sk-container-id-4 label.sk-toggleable__label {cursor: pointer;display: block;width: 100%;margin-bottom: 0;padding: 0.3em;box-sizing: border-box;text-align: center;}#sk-container-id-4 label.sk-toggleable__label-arrow:before {content: \"▸\";float: left;margin-right: 0.25em;color: #696969;}#sk-container-id-4 label.sk-toggleable__label-arrow:hover:before {color: black;}#sk-container-id-4 div.sk-estimator:hover label.sk-toggleable__label-arrow:before {color: black;}#sk-container-id-4 div.sk-toggleable__content {max-height: 0;max-width: 0;overflow: hidden;text-align: left;background-color: #f0f8ff;}#sk-container-id-4 div.sk-toggleable__content pre {margin: 0.2em;color: black;border-radius: 0.25em;background-color: #f0f8ff;}#sk-container-id-4 input.sk-toggleable__control:checked~div.sk-toggleable__content {max-height: 200px;max-width: 100%;overflow: auto;}#sk-container-id-4 input.sk-toggleable__control:checked~label.sk-toggleable__label-arrow:before {content: \"▾\";}#sk-container-id-4 div.sk-estimator input.sk-toggleable__control:checked~label.sk-toggleable__label {background-color: #d4ebff;}#sk-container-id-4 div.sk-label input.sk-toggleable__control:checked~label.sk-toggleable__label {background-color: #d4ebff;}#sk-container-id-4 input.sk-hidden--visually {border: 0;clip: rect(1px 1px 1px 1px);clip: rect(1px, 1px, 1px, 1px);height: 1px;margin: -1px;overflow: hidden;padding: 0;position: absolute;width: 1px;}#sk-container-id-4 div.sk-estimator {font-family: monospace;background-color: #f0f8ff;border: 1px dotted black;border-radius: 0.25em;box-sizing: border-box;margin-bottom: 0.5em;}#sk-container-id-4 div.sk-estimator:hover {background-color: #d4ebff;}#sk-container-id-4 div.sk-parallel-item::after {content: \"\";width: 100%;border-bottom: 1px solid gray;flex-grow: 1;}#sk-container-id-4 div.sk-label:hover label.sk-toggleable__label {background-color: #d4ebff;}#sk-container-id-4 div.sk-serial::before {content: \"\";position: absolute;border-left: 1px solid gray;box-sizing: border-box;top: 0;bottom: 0;left: 50%;z-index: 0;}#sk-container-id-4 div.sk-serial {display: flex;flex-direction: column;align-items: center;background-color: white;padding-right: 0.2em;padding-left: 0.2em;position: relative;}#sk-container-id-4 div.sk-item {position: relative;z-index: 1;}#sk-container-id-4 div.sk-parallel {display: flex;align-items: stretch;justify-content: center;background-color: white;position: relative;}#sk-container-id-4 div.sk-item::before, #sk-container-id-4 div.sk-parallel-item::before {content: \"\";position: absolute;border-left: 1px solid gray;box-sizing: border-box;top: 0;bottom: 0;left: 50%;z-index: -1;}#sk-container-id-4 div.sk-parallel-item {display: flex;flex-direction: column;z-index: 1;position: relative;background-color: white;}#sk-container-id-4 div.sk-parallel-item:first-child::after {align-self: flex-end;width: 50%;}#sk-container-id-4 div.sk-parallel-item:last-child::after {align-self: flex-start;width: 50%;}#sk-container-id-4 div.sk-parallel-item:only-child::after {width: 0;}#sk-container-id-4 div.sk-dashed-wrapped {border: 1px dashed gray;margin: 0 0.4em 0.5em 0.4em;box-sizing: border-box;padding-bottom: 0.4em;background-color: white;}#sk-container-id-4 div.sk-label label {font-family: monospace;font-weight: bold;display: inline-block;line-height: 1.2em;}#sk-container-id-4 div.sk-label-container {text-align: center;}#sk-container-id-4 div.sk-container {/* jupyter's `normalize.less` sets `[hidden] { display: none; }` but bootstrap.min.css set `[hidden] { display: none !important; }` so we also need the `!important` here to be able to override the default hidden behavior on the sphinx rendered scikit-learn.org. See: https://github.com/scikit-learn/scikit-learn/issues/21755 */display: inline-block !important;position: relative;}#sk-container-id-4 div.sk-text-repr-fallback {display: none;}</style><div id=\"sk-container-id-4\" class=\"sk-top-container\"><div class=\"sk-text-repr-fallback\"><pre>Pipeline(steps=[(&#x27;Nan Imputer&#x27;,\n",
       "                 ColumnTransformer(transformers=[(&#x27;Nan Imputer&#x27;,\n",
       "                                                  SimpleImputer(strategy=&#x27;most_frequent&#x27;),\n",
       "                                                  slice(0, 11, None))])),\n",
       "                (&#x27;StandardScaler&#x27;,\n",
       "                 ColumnTransformer(transformers=[(&#x27;Standard Scaler&#x27;,\n",
       "                                                  StandardScaler(),\n",
       "                                                  slice(0, 11, None))])),\n",
       "                (&#x27;Decision Tree Classifier&#x27;, DecisionTreeClassifier())])</pre><b>In a Jupyter environment, please rerun this cell to show the HTML representation or trust the notebook. <br />On GitHub, the HTML representation is unable to render, please try loading this page with nbviewer.org.</b></div><div class=\"sk-container\" hidden><div class=\"sk-item sk-dashed-wrapped\"><div class=\"sk-label-container\"><div class=\"sk-label sk-toggleable\"><input class=\"sk-toggleable__control sk-hidden--visually\" id=\"sk-estimator-id-25\" type=\"checkbox\" ><label for=\"sk-estimator-id-25\" class=\"sk-toggleable__label sk-toggleable__label-arrow\">Pipeline</label><div class=\"sk-toggleable__content\"><pre>Pipeline(steps=[(&#x27;Nan Imputer&#x27;,\n",
       "                 ColumnTransformer(transformers=[(&#x27;Nan Imputer&#x27;,\n",
       "                                                  SimpleImputer(strategy=&#x27;most_frequent&#x27;),\n",
       "                                                  slice(0, 11, None))])),\n",
       "                (&#x27;StandardScaler&#x27;,\n",
       "                 ColumnTransformer(transformers=[(&#x27;Standard Scaler&#x27;,\n",
       "                                                  StandardScaler(),\n",
       "                                                  slice(0, 11, None))])),\n",
       "                (&#x27;Decision Tree Classifier&#x27;, DecisionTreeClassifier())])</pre></div></div></div><div class=\"sk-serial\"><div class=\"sk-item sk-dashed-wrapped\"><div class=\"sk-label-container\"><div class=\"sk-label sk-toggleable\"><input class=\"sk-toggleable__control sk-hidden--visually\" id=\"sk-estimator-id-26\" type=\"checkbox\" ><label for=\"sk-estimator-id-26\" class=\"sk-toggleable__label sk-toggleable__label-arrow\">Nan Imputer: ColumnTransformer</label><div class=\"sk-toggleable__content\"><pre>ColumnTransformer(transformers=[(&#x27;Nan Imputer&#x27;,\n",
       "                                 SimpleImputer(strategy=&#x27;most_frequent&#x27;),\n",
       "                                 slice(0, 11, None))])</pre></div></div></div><div class=\"sk-parallel\"><div class=\"sk-parallel-item\"><div class=\"sk-item\"><div class=\"sk-label-container\"><div class=\"sk-label sk-toggleable\"><input class=\"sk-toggleable__control sk-hidden--visually\" id=\"sk-estimator-id-27\" type=\"checkbox\" ><label for=\"sk-estimator-id-27\" class=\"sk-toggleable__label sk-toggleable__label-arrow\">Nan Imputer</label><div class=\"sk-toggleable__content\"><pre>slice(0, 11, None)</pre></div></div></div><div class=\"sk-serial\"><div class=\"sk-item\"><div class=\"sk-estimator sk-toggleable\"><input class=\"sk-toggleable__control sk-hidden--visually\" id=\"sk-estimator-id-28\" type=\"checkbox\" ><label for=\"sk-estimator-id-28\" class=\"sk-toggleable__label sk-toggleable__label-arrow\">SimpleImputer</label><div class=\"sk-toggleable__content\"><pre>SimpleImputer(strategy=&#x27;most_frequent&#x27;)</pre></div></div></div></div></div></div></div></div><div class=\"sk-item sk-dashed-wrapped\"><div class=\"sk-label-container\"><div class=\"sk-label sk-toggleable\"><input class=\"sk-toggleable__control sk-hidden--visually\" id=\"sk-estimator-id-29\" type=\"checkbox\" ><label for=\"sk-estimator-id-29\" class=\"sk-toggleable__label sk-toggleable__label-arrow\">StandardScaler: ColumnTransformer</label><div class=\"sk-toggleable__content\"><pre>ColumnTransformer(transformers=[(&#x27;Standard Scaler&#x27;, StandardScaler(),\n",
       "                                 slice(0, 11, None))])</pre></div></div></div><div class=\"sk-parallel\"><div class=\"sk-parallel-item\"><div class=\"sk-item\"><div class=\"sk-label-container\"><div class=\"sk-label sk-toggleable\"><input class=\"sk-toggleable__control sk-hidden--visually\" id=\"sk-estimator-id-30\" type=\"checkbox\" ><label for=\"sk-estimator-id-30\" class=\"sk-toggleable__label sk-toggleable__label-arrow\">Standard Scaler</label><div class=\"sk-toggleable__content\"><pre>slice(0, 11, None)</pre></div></div></div><div class=\"sk-serial\"><div class=\"sk-item\"><div class=\"sk-estimator sk-toggleable\"><input class=\"sk-toggleable__control sk-hidden--visually\" id=\"sk-estimator-id-31\" type=\"checkbox\" ><label for=\"sk-estimator-id-31\" class=\"sk-toggleable__label sk-toggleable__label-arrow\">StandardScaler</label><div class=\"sk-toggleable__content\"><pre>StandardScaler()</pre></div></div></div></div></div></div></div></div><div class=\"sk-item\"><div class=\"sk-estimator sk-toggleable\"><input class=\"sk-toggleable__control sk-hidden--visually\" id=\"sk-estimator-id-32\" type=\"checkbox\" ><label for=\"sk-estimator-id-32\" class=\"sk-toggleable__label sk-toggleable__label-arrow\">DecisionTreeClassifier</label><div class=\"sk-toggleable__content\"><pre>DecisionTreeClassifier()</pre></div></div></div></div></div></div></div>"
      ],
      "text/plain": [
       "Pipeline(steps=[('Nan Imputer',\n",
       "                 ColumnTransformer(transformers=[('Nan Imputer',\n",
       "                                                  SimpleImputer(strategy='most_frequent'),\n",
       "                                                  slice(0, 11, None))])),\n",
       "                ('StandardScaler',\n",
       "                 ColumnTransformer(transformers=[('Standard Scaler',\n",
       "                                                  StandardScaler(),\n",
       "                                                  slice(0, 11, None))])),\n",
       "                ('Decision Tree Classifier', DecisionTreeClassifier())])"
      ]
     },
     "execution_count": 19,
     "metadata": {},
     "output_type": "execute_result"
    }
   ],
   "source": [
    "tf1_dtc = ColumnTransformer([('Nan Imputer' , SimpleImputer(missing_values = np.nan , strategy = 'most_frequent') , slice(0,11))])\n",
    "tf2_dtc = ColumnTransformer([('Standard Scaler', StandardScaler(), slice(0,11))])\n",
    "dtc = DecisionTreeClassifier()\n",
    "\n",
    "\n",
    "pipe_dtc = Pipeline([('Nan Imputer',tf1_dtc),('StandardScaler',tf2_dtc),('Decision Tree Classifier',dtc)])\n",
    "\n",
    "pipe_dtc.fit(x_train,y_train)\n",
    "\n",
    "# Calculate the accuracy of the classifier\n",
    "y_pred_dtc = pipe_dtc.predict(x_test)\n",
    "accuracy_dtc = accuracy_score(y_test, y_pred_dtc)\n",
    "print(\"Accuracy:\", accuracy_dtc)\n",
    "\n",
    "set_config(display='diagram')\n",
    "pipe_dtc"
   ]
  },
  {
   "cell_type": "code",
   "execution_count": null,
   "metadata": {
    "colab": {
     "base_uri": "https://localhost:8080/",
     "height": 310
    },
    "id": "QGHzHvk4A3W7",
    "outputId": "ee64b352-af97-4aa6-a844-52bc352cc7ac"
   },
   "outputs": [
    {
     "name": "stdout",
     "output_type": "stream",
     "text": [
      "Accuracy: 0.9420498428917512\n"
     ]
    },
    {
     "data": {
      "text/html": [
       "<style>#sk-container-id-5 {color: black;background-color: white;}#sk-container-id-5 pre{padding: 0;}#sk-container-id-5 div.sk-toggleable {background-color: white;}#sk-container-id-5 label.sk-toggleable__label {cursor: pointer;display: block;width: 100%;margin-bottom: 0;padding: 0.3em;box-sizing: border-box;text-align: center;}#sk-container-id-5 label.sk-toggleable__label-arrow:before {content: \"▸\";float: left;margin-right: 0.25em;color: #696969;}#sk-container-id-5 label.sk-toggleable__label-arrow:hover:before {color: black;}#sk-container-id-5 div.sk-estimator:hover label.sk-toggleable__label-arrow:before {color: black;}#sk-container-id-5 div.sk-toggleable__content {max-height: 0;max-width: 0;overflow: hidden;text-align: left;background-color: #f0f8ff;}#sk-container-id-5 div.sk-toggleable__content pre {margin: 0.2em;color: black;border-radius: 0.25em;background-color: #f0f8ff;}#sk-container-id-5 input.sk-toggleable__control:checked~div.sk-toggleable__content {max-height: 200px;max-width: 100%;overflow: auto;}#sk-container-id-5 input.sk-toggleable__control:checked~label.sk-toggleable__label-arrow:before {content: \"▾\";}#sk-container-id-5 div.sk-estimator input.sk-toggleable__control:checked~label.sk-toggleable__label {background-color: #d4ebff;}#sk-container-id-5 div.sk-label input.sk-toggleable__control:checked~label.sk-toggleable__label {background-color: #d4ebff;}#sk-container-id-5 input.sk-hidden--visually {border: 0;clip: rect(1px 1px 1px 1px);clip: rect(1px, 1px, 1px, 1px);height: 1px;margin: -1px;overflow: hidden;padding: 0;position: absolute;width: 1px;}#sk-container-id-5 div.sk-estimator {font-family: monospace;background-color: #f0f8ff;border: 1px dotted black;border-radius: 0.25em;box-sizing: border-box;margin-bottom: 0.5em;}#sk-container-id-5 div.sk-estimator:hover {background-color: #d4ebff;}#sk-container-id-5 div.sk-parallel-item::after {content: \"\";width: 100%;border-bottom: 1px solid gray;flex-grow: 1;}#sk-container-id-5 div.sk-label:hover label.sk-toggleable__label {background-color: #d4ebff;}#sk-container-id-5 div.sk-serial::before {content: \"\";position: absolute;border-left: 1px solid gray;box-sizing: border-box;top: 0;bottom: 0;left: 50%;z-index: 0;}#sk-container-id-5 div.sk-serial {display: flex;flex-direction: column;align-items: center;background-color: white;padding-right: 0.2em;padding-left: 0.2em;position: relative;}#sk-container-id-5 div.sk-item {position: relative;z-index: 1;}#sk-container-id-5 div.sk-parallel {display: flex;align-items: stretch;justify-content: center;background-color: white;position: relative;}#sk-container-id-5 div.sk-item::before, #sk-container-id-5 div.sk-parallel-item::before {content: \"\";position: absolute;border-left: 1px solid gray;box-sizing: border-box;top: 0;bottom: 0;left: 50%;z-index: -1;}#sk-container-id-5 div.sk-parallel-item {display: flex;flex-direction: column;z-index: 1;position: relative;background-color: white;}#sk-container-id-5 div.sk-parallel-item:first-child::after {align-self: flex-end;width: 50%;}#sk-container-id-5 div.sk-parallel-item:last-child::after {align-self: flex-start;width: 50%;}#sk-container-id-5 div.sk-parallel-item:only-child::after {width: 0;}#sk-container-id-5 div.sk-dashed-wrapped {border: 1px dashed gray;margin: 0 0.4em 0.5em 0.4em;box-sizing: border-box;padding-bottom: 0.4em;background-color: white;}#sk-container-id-5 div.sk-label label {font-family: monospace;font-weight: bold;display: inline-block;line-height: 1.2em;}#sk-container-id-5 div.sk-label-container {text-align: center;}#sk-container-id-5 div.sk-container {/* jupyter's `normalize.less` sets `[hidden] { display: none; }` but bootstrap.min.css set `[hidden] { display: none !important; }` so we also need the `!important` here to be able to override the default hidden behavior on the sphinx rendered scikit-learn.org. See: https://github.com/scikit-learn/scikit-learn/issues/21755 */display: inline-block !important;position: relative;}#sk-container-id-5 div.sk-text-repr-fallback {display: none;}</style><div id=\"sk-container-id-5\" class=\"sk-top-container\"><div class=\"sk-text-repr-fallback\"><pre>Pipeline(steps=[(&#x27;Nan Imputer&#x27;,\n",
       "                 ColumnTransformer(transformers=[(&#x27;Nan Imputer&#x27;,\n",
       "                                                  SimpleImputer(strategy=&#x27;most_frequent&#x27;),\n",
       "                                                  slice(0, 11, None))])),\n",
       "                (&#x27;StandardScaler&#x27;,\n",
       "                 ColumnTransformer(transformers=[(&#x27;Standard Scaler&#x27;,\n",
       "                                                  StandardScaler(),\n",
       "                                                  slice(0, 11, None))])),\n",
       "                (&#x27;Random Forest Classifier&#x27;, RandomForestClassifier())])</pre><b>In a Jupyter environment, please rerun this cell to show the HTML representation or trust the notebook. <br />On GitHub, the HTML representation is unable to render, please try loading this page with nbviewer.org.</b></div><div class=\"sk-container\" hidden><div class=\"sk-item sk-dashed-wrapped\"><div class=\"sk-label-container\"><div class=\"sk-label sk-toggleable\"><input class=\"sk-toggleable__control sk-hidden--visually\" id=\"sk-estimator-id-33\" type=\"checkbox\" ><label for=\"sk-estimator-id-33\" class=\"sk-toggleable__label sk-toggleable__label-arrow\">Pipeline</label><div class=\"sk-toggleable__content\"><pre>Pipeline(steps=[(&#x27;Nan Imputer&#x27;,\n",
       "                 ColumnTransformer(transformers=[(&#x27;Nan Imputer&#x27;,\n",
       "                                                  SimpleImputer(strategy=&#x27;most_frequent&#x27;),\n",
       "                                                  slice(0, 11, None))])),\n",
       "                (&#x27;StandardScaler&#x27;,\n",
       "                 ColumnTransformer(transformers=[(&#x27;Standard Scaler&#x27;,\n",
       "                                                  StandardScaler(),\n",
       "                                                  slice(0, 11, None))])),\n",
       "                (&#x27;Random Forest Classifier&#x27;, RandomForestClassifier())])</pre></div></div></div><div class=\"sk-serial\"><div class=\"sk-item sk-dashed-wrapped\"><div class=\"sk-label-container\"><div class=\"sk-label sk-toggleable\"><input class=\"sk-toggleable__control sk-hidden--visually\" id=\"sk-estimator-id-34\" type=\"checkbox\" ><label for=\"sk-estimator-id-34\" class=\"sk-toggleable__label sk-toggleable__label-arrow\">Nan Imputer: ColumnTransformer</label><div class=\"sk-toggleable__content\"><pre>ColumnTransformer(transformers=[(&#x27;Nan Imputer&#x27;,\n",
       "                                 SimpleImputer(strategy=&#x27;most_frequent&#x27;),\n",
       "                                 slice(0, 11, None))])</pre></div></div></div><div class=\"sk-parallel\"><div class=\"sk-parallel-item\"><div class=\"sk-item\"><div class=\"sk-label-container\"><div class=\"sk-label sk-toggleable\"><input class=\"sk-toggleable__control sk-hidden--visually\" id=\"sk-estimator-id-35\" type=\"checkbox\" ><label for=\"sk-estimator-id-35\" class=\"sk-toggleable__label sk-toggleable__label-arrow\">Nan Imputer</label><div class=\"sk-toggleable__content\"><pre>slice(0, 11, None)</pre></div></div></div><div class=\"sk-serial\"><div class=\"sk-item\"><div class=\"sk-estimator sk-toggleable\"><input class=\"sk-toggleable__control sk-hidden--visually\" id=\"sk-estimator-id-36\" type=\"checkbox\" ><label for=\"sk-estimator-id-36\" class=\"sk-toggleable__label sk-toggleable__label-arrow\">SimpleImputer</label><div class=\"sk-toggleable__content\"><pre>SimpleImputer(strategy=&#x27;most_frequent&#x27;)</pre></div></div></div></div></div></div></div></div><div class=\"sk-item sk-dashed-wrapped\"><div class=\"sk-label-container\"><div class=\"sk-label sk-toggleable\"><input class=\"sk-toggleable__control sk-hidden--visually\" id=\"sk-estimator-id-37\" type=\"checkbox\" ><label for=\"sk-estimator-id-37\" class=\"sk-toggleable__label sk-toggleable__label-arrow\">StandardScaler: ColumnTransformer</label><div class=\"sk-toggleable__content\"><pre>ColumnTransformer(transformers=[(&#x27;Standard Scaler&#x27;, StandardScaler(),\n",
       "                                 slice(0, 11, None))])</pre></div></div></div><div class=\"sk-parallel\"><div class=\"sk-parallel-item\"><div class=\"sk-item\"><div class=\"sk-label-container\"><div class=\"sk-label sk-toggleable\"><input class=\"sk-toggleable__control sk-hidden--visually\" id=\"sk-estimator-id-38\" type=\"checkbox\" ><label for=\"sk-estimator-id-38\" class=\"sk-toggleable__label sk-toggleable__label-arrow\">Standard Scaler</label><div class=\"sk-toggleable__content\"><pre>slice(0, 11, None)</pre></div></div></div><div class=\"sk-serial\"><div class=\"sk-item\"><div class=\"sk-estimator sk-toggleable\"><input class=\"sk-toggleable__control sk-hidden--visually\" id=\"sk-estimator-id-39\" type=\"checkbox\" ><label for=\"sk-estimator-id-39\" class=\"sk-toggleable__label sk-toggleable__label-arrow\">StandardScaler</label><div class=\"sk-toggleable__content\"><pre>StandardScaler()</pre></div></div></div></div></div></div></div></div><div class=\"sk-item\"><div class=\"sk-estimator sk-toggleable\"><input class=\"sk-toggleable__control sk-hidden--visually\" id=\"sk-estimator-id-40\" type=\"checkbox\" ><label for=\"sk-estimator-id-40\" class=\"sk-toggleable__label sk-toggleable__label-arrow\">RandomForestClassifier</label><div class=\"sk-toggleable__content\"><pre>RandomForestClassifier()</pre></div></div></div></div></div></div></div>"
      ],
      "text/plain": [
       "Pipeline(steps=[('Nan Imputer',\n",
       "                 ColumnTransformer(transformers=[('Nan Imputer',\n",
       "                                                  SimpleImputer(strategy='most_frequent'),\n",
       "                                                  slice(0, 11, None))])),\n",
       "                ('StandardScaler',\n",
       "                 ColumnTransformer(transformers=[('Standard Scaler',\n",
       "                                                  StandardScaler(),\n",
       "                                                  slice(0, 11, None))])),\n",
       "                ('Random Forest Classifier', RandomForestClassifier())])"
      ]
     },
     "execution_count": 21,
     "metadata": {},
     "output_type": "execute_result"
    }
   ],
   "source": [
    "tf1_rfc = ColumnTransformer([('Nan Imputer' , SimpleImputer(missing_values = np.nan , strategy = 'most_frequent') , slice(0,11))])\n",
    "tf2_rfc = ColumnTransformer([('Standard Scaler', StandardScaler(), slice(0,11))])\n",
    "rfc = RandomForestClassifier()\n",
    "\n",
    "\n",
    "pipe_rfc = Pipeline([('Nan Imputer',tf1_rfc),('StandardScaler',tf2_rfc),('Random Forest Classifier',rfc)])\n",
    "\n",
    "pipe_rfc.fit(x_train,y_train)\n",
    "\n",
    "# Calculate the accuracy of the classifier\n",
    "y_pred_rfc = pipe_rfc.predict(x_test)\n",
    "accuracy_rfc = accuracy_score(y_test, y_pred_rfc)\n",
    "print(\"Accuracy:\", accuracy_rfc)\n",
    "\n",
    "set_config(display='diagram')\n",
    "pipe_rfc"
   ]
  },
  {
   "cell_type": "code",
   "execution_count": null,
   "metadata": {
    "colab": {
     "base_uri": "https://localhost:8080/",
     "height": 310
    },
    "id": "HNcvyTAnA3Un",
    "outputId": "660517c7-74d6-4ce0-9269-6e9d72cd8f49"
   },
   "outputs": [
    {
     "name": "stdout",
     "output_type": "stream",
     "text": [
      "Accuracy: 0.966047828068408\n"
     ]
    },
    {
     "data": {
      "text/html": [
       "<style>#sk-container-id-1 {color: black;background-color: white;}#sk-container-id-1 pre{padding: 0;}#sk-container-id-1 div.sk-toggleable {background-color: white;}#sk-container-id-1 label.sk-toggleable__label {cursor: pointer;display: block;width: 100%;margin-bottom: 0;padding: 0.3em;box-sizing: border-box;text-align: center;}#sk-container-id-1 label.sk-toggleable__label-arrow:before {content: \"▸\";float: left;margin-right: 0.25em;color: #696969;}#sk-container-id-1 label.sk-toggleable__label-arrow:hover:before {color: black;}#sk-container-id-1 div.sk-estimator:hover label.sk-toggleable__label-arrow:before {color: black;}#sk-container-id-1 div.sk-toggleable__content {max-height: 0;max-width: 0;overflow: hidden;text-align: left;background-color: #f0f8ff;}#sk-container-id-1 div.sk-toggleable__content pre {margin: 0.2em;color: black;border-radius: 0.25em;background-color: #f0f8ff;}#sk-container-id-1 input.sk-toggleable__control:checked~div.sk-toggleable__content {max-height: 200px;max-width: 100%;overflow: auto;}#sk-container-id-1 input.sk-toggleable__control:checked~label.sk-toggleable__label-arrow:before {content: \"▾\";}#sk-container-id-1 div.sk-estimator input.sk-toggleable__control:checked~label.sk-toggleable__label {background-color: #d4ebff;}#sk-container-id-1 div.sk-label input.sk-toggleable__control:checked~label.sk-toggleable__label {background-color: #d4ebff;}#sk-container-id-1 input.sk-hidden--visually {border: 0;clip: rect(1px 1px 1px 1px);clip: rect(1px, 1px, 1px, 1px);height: 1px;margin: -1px;overflow: hidden;padding: 0;position: absolute;width: 1px;}#sk-container-id-1 div.sk-estimator {font-family: monospace;background-color: #f0f8ff;border: 1px dotted black;border-radius: 0.25em;box-sizing: border-box;margin-bottom: 0.5em;}#sk-container-id-1 div.sk-estimator:hover {background-color: #d4ebff;}#sk-container-id-1 div.sk-parallel-item::after {content: \"\";width: 100%;border-bottom: 1px solid gray;flex-grow: 1;}#sk-container-id-1 div.sk-label:hover label.sk-toggleable__label {background-color: #d4ebff;}#sk-container-id-1 div.sk-serial::before {content: \"\";position: absolute;border-left: 1px solid gray;box-sizing: border-box;top: 0;bottom: 0;left: 50%;z-index: 0;}#sk-container-id-1 div.sk-serial {display: flex;flex-direction: column;align-items: center;background-color: white;padding-right: 0.2em;padding-left: 0.2em;position: relative;}#sk-container-id-1 div.sk-item {position: relative;z-index: 1;}#sk-container-id-1 div.sk-parallel {display: flex;align-items: stretch;justify-content: center;background-color: white;position: relative;}#sk-container-id-1 div.sk-item::before, #sk-container-id-1 div.sk-parallel-item::before {content: \"\";position: absolute;border-left: 1px solid gray;box-sizing: border-box;top: 0;bottom: 0;left: 50%;z-index: -1;}#sk-container-id-1 div.sk-parallel-item {display: flex;flex-direction: column;z-index: 1;position: relative;background-color: white;}#sk-container-id-1 div.sk-parallel-item:first-child::after {align-self: flex-end;width: 50%;}#sk-container-id-1 div.sk-parallel-item:last-child::after {align-self: flex-start;width: 50%;}#sk-container-id-1 div.sk-parallel-item:only-child::after {width: 0;}#sk-container-id-1 div.sk-dashed-wrapped {border: 1px dashed gray;margin: 0 0.4em 0.5em 0.4em;box-sizing: border-box;padding-bottom: 0.4em;background-color: white;}#sk-container-id-1 div.sk-label label {font-family: monospace;font-weight: bold;display: inline-block;line-height: 1.2em;}#sk-container-id-1 div.sk-label-container {text-align: center;}#sk-container-id-1 div.sk-container {/* jupyter's `normalize.less` sets `[hidden] { display: none; }` but bootstrap.min.css set `[hidden] { display: none !important; }` so we also need the `!important` here to be able to override the default hidden behavior on the sphinx rendered scikit-learn.org. See: https://github.com/scikit-learn/scikit-learn/issues/21755 */display: inline-block !important;position: relative;}#sk-container-id-1 div.sk-text-repr-fallback {display: none;}</style><div id=\"sk-container-id-1\" class=\"sk-top-container\"><div class=\"sk-text-repr-fallback\"><pre>Pipeline(steps=[(&#x27;Nan Imputer&#x27;,\n",
       "                 ColumnTransformer(transformers=[(&#x27;Nan Imputer&#x27;,\n",
       "                                                  SimpleImputer(strategy=&#x27;most_frequent&#x27;),\n",
       "                                                  slice(0, 11, None))])),\n",
       "                (&#x27;StandardScaler&#x27;,\n",
       "                 ColumnTransformer(transformers=[(&#x27;Standard Scaler&#x27;,\n",
       "                                                  StandardScaler(),\n",
       "                                                  slice(0, 11, None))])),\n",
       "                (&#x27;Random Forest Classifier&#x27;,\n",
       "                 XGBClassifier(base_score=None, booster=None, callbacks=None,\n",
       "                               colsample_bylevel=None,...\n",
       "                               grow_policy=None, importance_type=None,\n",
       "                               interaction_constraints=None, learning_rate=None,\n",
       "                               max_bin=None, max_cat_threshold=None,\n",
       "                               max_cat_to_onehot=None, max_delta_step=None,\n",
       "                               max_depth=None, max_leaves=None,\n",
       "                               min_child_weight=None, missing=nan,\n",
       "                               monotone_constraints=None, n_estimators=100,\n",
       "                               n_jobs=None, num_parallel_tree=None,\n",
       "                               objective=&#x27;multi:softprob&#x27;, predictor=None, ...))])</pre><b>In a Jupyter environment, please rerun this cell to show the HTML representation or trust the notebook. <br />On GitHub, the HTML representation is unable to render, please try loading this page with nbviewer.org.</b></div><div class=\"sk-container\" hidden><div class=\"sk-item sk-dashed-wrapped\"><div class=\"sk-label-container\"><div class=\"sk-label sk-toggleable\"><input class=\"sk-toggleable__control sk-hidden--visually\" id=\"sk-estimator-id-1\" type=\"checkbox\" ><label for=\"sk-estimator-id-1\" class=\"sk-toggleable__label sk-toggleable__label-arrow\">Pipeline</label><div class=\"sk-toggleable__content\"><pre>Pipeline(steps=[(&#x27;Nan Imputer&#x27;,\n",
       "                 ColumnTransformer(transformers=[(&#x27;Nan Imputer&#x27;,\n",
       "                                                  SimpleImputer(strategy=&#x27;most_frequent&#x27;),\n",
       "                                                  slice(0, 11, None))])),\n",
       "                (&#x27;StandardScaler&#x27;,\n",
       "                 ColumnTransformer(transformers=[(&#x27;Standard Scaler&#x27;,\n",
       "                                                  StandardScaler(),\n",
       "                                                  slice(0, 11, None))])),\n",
       "                (&#x27;Random Forest Classifier&#x27;,\n",
       "                 XGBClassifier(base_score=None, booster=None, callbacks=None,\n",
       "                               colsample_bylevel=None,...\n",
       "                               grow_policy=None, importance_type=None,\n",
       "                               interaction_constraints=None, learning_rate=None,\n",
       "                               max_bin=None, max_cat_threshold=None,\n",
       "                               max_cat_to_onehot=None, max_delta_step=None,\n",
       "                               max_depth=None, max_leaves=None,\n",
       "                               min_child_weight=None, missing=nan,\n",
       "                               monotone_constraints=None, n_estimators=100,\n",
       "                               n_jobs=None, num_parallel_tree=None,\n",
       "                               objective=&#x27;multi:softprob&#x27;, predictor=None, ...))])</pre></div></div></div><div class=\"sk-serial\"><div class=\"sk-item sk-dashed-wrapped\"><div class=\"sk-label-container\"><div class=\"sk-label sk-toggleable\"><input class=\"sk-toggleable__control sk-hidden--visually\" id=\"sk-estimator-id-2\" type=\"checkbox\" ><label for=\"sk-estimator-id-2\" class=\"sk-toggleable__label sk-toggleable__label-arrow\">Nan Imputer: ColumnTransformer</label><div class=\"sk-toggleable__content\"><pre>ColumnTransformer(transformers=[(&#x27;Nan Imputer&#x27;,\n",
       "                                 SimpleImputer(strategy=&#x27;most_frequent&#x27;),\n",
       "                                 slice(0, 11, None))])</pre></div></div></div><div class=\"sk-parallel\"><div class=\"sk-parallel-item\"><div class=\"sk-item\"><div class=\"sk-label-container\"><div class=\"sk-label sk-toggleable\"><input class=\"sk-toggleable__control sk-hidden--visually\" id=\"sk-estimator-id-3\" type=\"checkbox\" ><label for=\"sk-estimator-id-3\" class=\"sk-toggleable__label sk-toggleable__label-arrow\">Nan Imputer</label><div class=\"sk-toggleable__content\"><pre>slice(0, 11, None)</pre></div></div></div><div class=\"sk-serial\"><div class=\"sk-item\"><div class=\"sk-estimator sk-toggleable\"><input class=\"sk-toggleable__control sk-hidden--visually\" id=\"sk-estimator-id-4\" type=\"checkbox\" ><label for=\"sk-estimator-id-4\" class=\"sk-toggleable__label sk-toggleable__label-arrow\">SimpleImputer</label><div class=\"sk-toggleable__content\"><pre>SimpleImputer(strategy=&#x27;most_frequent&#x27;)</pre></div></div></div></div></div></div></div></div><div class=\"sk-item sk-dashed-wrapped\"><div class=\"sk-label-container\"><div class=\"sk-label sk-toggleable\"><input class=\"sk-toggleable__control sk-hidden--visually\" id=\"sk-estimator-id-5\" type=\"checkbox\" ><label for=\"sk-estimator-id-5\" class=\"sk-toggleable__label sk-toggleable__label-arrow\">StandardScaler: ColumnTransformer</label><div class=\"sk-toggleable__content\"><pre>ColumnTransformer(transformers=[(&#x27;Standard Scaler&#x27;, StandardScaler(),\n",
       "                                 slice(0, 11, None))])</pre></div></div></div><div class=\"sk-parallel\"><div class=\"sk-parallel-item\"><div class=\"sk-item\"><div class=\"sk-label-container\"><div class=\"sk-label sk-toggleable\"><input class=\"sk-toggleable__control sk-hidden--visually\" id=\"sk-estimator-id-6\" type=\"checkbox\" ><label for=\"sk-estimator-id-6\" class=\"sk-toggleable__label sk-toggleable__label-arrow\">Standard Scaler</label><div class=\"sk-toggleable__content\"><pre>slice(0, 11, None)</pre></div></div></div><div class=\"sk-serial\"><div class=\"sk-item\"><div class=\"sk-estimator sk-toggleable\"><input class=\"sk-toggleable__control sk-hidden--visually\" id=\"sk-estimator-id-7\" type=\"checkbox\" ><label for=\"sk-estimator-id-7\" class=\"sk-toggleable__label sk-toggleable__label-arrow\">StandardScaler</label><div class=\"sk-toggleable__content\"><pre>StandardScaler()</pre></div></div></div></div></div></div></div></div><div class=\"sk-item\"><div class=\"sk-estimator sk-toggleable\"><input class=\"sk-toggleable__control sk-hidden--visually\" id=\"sk-estimator-id-8\" type=\"checkbox\" ><label for=\"sk-estimator-id-8\" class=\"sk-toggleable__label sk-toggleable__label-arrow\">XGBClassifier</label><div class=\"sk-toggleable__content\"><pre>XGBClassifier(base_score=None, booster=None, callbacks=None,\n",
       "              colsample_bylevel=None, colsample_bynode=None,\n",
       "              colsample_bytree=None, early_stopping_rounds=None,\n",
       "              enable_categorical=False, eval_metric=None, feature_types=None,\n",
       "              gamma=None, gpu_id=None, grow_policy=None, importance_type=None,\n",
       "              interaction_constraints=None, learning_rate=None, max_bin=None,\n",
       "              max_cat_threshold=None, max_cat_to_onehot=None,\n",
       "              max_delta_step=None, max_depth=None, max_leaves=None,\n",
       "              min_child_weight=None, missing=nan, monotone_constraints=None,\n",
       "              n_estimators=100, n_jobs=None, num_parallel_tree=None,\n",
       "              objective=&#x27;multi:softprob&#x27;, predictor=None, ...)</pre></div></div></div></div></div></div></div>"
      ],
      "text/plain": [
       "Pipeline(steps=[('Nan Imputer',\n",
       "                 ColumnTransformer(transformers=[('Nan Imputer',\n",
       "                                                  SimpleImputer(strategy='most_frequent'),\n",
       "                                                  slice(0, 11, None))])),\n",
       "                ('StandardScaler',\n",
       "                 ColumnTransformer(transformers=[('Standard Scaler',\n",
       "                                                  StandardScaler(),\n",
       "                                                  slice(0, 11, None))])),\n",
       "                ('Random Forest Classifier',\n",
       "                 XGBClassifier(base_score=None, booster=None, callbacks=None,\n",
       "                               colsample_bylevel=None,...\n",
       "                               grow_policy=None, importance_type=None,\n",
       "                               interaction_constraints=None, learning_rate=None,\n",
       "                               max_bin=None, max_cat_threshold=None,\n",
       "                               max_cat_to_onehot=None, max_delta_step=None,\n",
       "                               max_depth=None, max_leaves=None,\n",
       "                               min_child_weight=None, missing=nan,\n",
       "                               monotone_constraints=None, n_estimators=100,\n",
       "                               n_jobs=None, num_parallel_tree=None,\n",
       "                               objective='multi:softprob', predictor=None, ...))])"
      ]
     },
     "execution_count": 13,
     "metadata": {},
     "output_type": "execute_result"
    }
   ],
   "source": [
    "tf1_xgc = ColumnTransformer([('Nan Imputer' , SimpleImputer(missing_values = np.nan , strategy = 'most_frequent') , slice(0,11))])\n",
    "tf2_xgc = ColumnTransformer([('Standard Scaler', StandardScaler(), slice(0,11))])\n",
    "xgc = XGBClassifier()\n",
    "\n",
    "\n",
    "pipe_xgc = Pipeline([('Nan Imputer',tf1_xgc),('StandardScaler',tf2_xgc),('XG Boost Classifier',xgc)])\n",
    "\n",
    "pipe_xgc.fit(x_train,y_train)\n",
    "\n",
    "# Calculate the accuracy of the classifier\n",
    "y_pred_xgc = pipe_xgc.predict(x_test)\n",
    "accuracy_xgc = accuracy_score(y_test, y_pred_xgc)\n",
    "print(\"Accuracy:\", accuracy_xgc)\n",
    "\n",
    "set_config(display='diagram')\n",
    "pipe_xgc"
   ]
  },
  {
   "cell_type": "markdown",
   "metadata": {
    "id": "U3-WtwaAzKZi"
   },
   "source": [
    "# Best Accurcy is given by XGBoost Classifier which is 96.60 %"
   ]
  },
  {
   "cell_type": "code",
   "execution_count": null,
   "metadata": {
    "id": "ETmFx1mPzTjX"
   },
   "outputs": [],
   "source": []
  }
 ],
 "metadata": {
  "colab": {
   "gpuType": "T4",
   "provenance": []
  },
  "kernelspec": {
   "display_name": ".venv",
   "language": "python",
   "name": "python3"
  },
  "language_info": {
   "codemirror_mode": {
    "name": "ipython",
    "version": 3
   },
   "file_extension": ".py",
   "mimetype": "text/x-python",
   "name": "python",
   "nbconvert_exporter": "python",
   "pygments_lexer": "ipython3",
   "version": "3.10.16"
  }
 },
 "nbformat": 4,
 "nbformat_minor": 5
}
